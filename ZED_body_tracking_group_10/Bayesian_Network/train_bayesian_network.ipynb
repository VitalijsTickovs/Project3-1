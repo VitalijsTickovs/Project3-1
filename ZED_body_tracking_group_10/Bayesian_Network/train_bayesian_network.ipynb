{
 "cells": [
  {
   "cell_type": "code",
   "execution_count": 12,
   "metadata": {},
   "outputs": [],
   "source": [
    "import pandas as pd\n",
    "import numpy as np\n",
    "import pickle\n",
    "\n",
    "from pgmpy.models import BayesianNetwork\n",
    "from pgmpy.factors.discrete import TabularCPD\n",
    "from pgmpy.inference import VariableElimination\n",
    "from pgmpy.estimators import MaximumLikelihoodEstimator"
   ]
  },
  {
   "cell_type": "markdown",
   "metadata": {},
   "source": [
    "0 - Crate <br>\n",
    "1 - Feeder <br>\n",
    "2 - Cup <br>\n",
    "3 - None <br>"
   ]
  },
  {
   "cell_type": "code",
   "execution_count": 13,
   "metadata": {},
   "outputs": [],
   "source": [
    "model = BayesianNetwork([\n",
    "        ('CrateAvailable', 'NextObject'),\n",
    "        ('FeederAvailable', 'NextObject'),\n",
    "        ('CupAvailable', 'NextObject'),\n",
    "\n",
    "        ('Worker', 'NextObject')\n",
    "    ])"
   ]
  },
  {
   "cell_type": "code",
   "execution_count": 14,
   "metadata": {},
   "outputs": [],
   "source": [
    "data = pd.read_csv(r'data\\data.csv')\n",
    "\n",
    "model.fit(data, estimator=MaximumLikelihoodEstimator)\n",
    "assert model.check_model()"
   ]
  },
  {
   "cell_type": "code",
   "execution_count": 15,
   "metadata": {},
   "outputs": [],
   "source": [
    "# cpd_second_last_obj = TabularCPD(\n",
    "#     variable='SecondLastObject', variable_card=3,\n",
    "#     values=[[0.33],  # Probability for SecondLastObject being state 0 (e.g., 'Crate')\n",
    "#             [0.33],  # Probability for SecondLastObject being state 1 (e.g., 'Feeder')\n",
    "#             [0.34]]  # Probability for SecondLastObject being state 2 (e.g., 'Cup')\n",
    "# )\n",
    "\n",
    "# cpd_last_obj = TabularCPD(\n",
    "#     variable='LastObject', variable_card=3,\n",
    "#     values=[[0.3, 0.3, 0.4],  # Probabilities for picking Crate next\n",
    "#             [0.4, 0.3, 0.3],  # Probabilities for picking Feeder next\n",
    "#             [0.3, 0.4, 0.3]], # Probabilities for picking Cup next\n",
    "#     evidence=['SecondLastObject'], \n",
    "#     evidence_card=[3])\n",
    "\n",
    "# cpd_cup_available = TabularCPD(variable='CupAvailable', variable_card=2, values=[[0.5], [0.5]])\n",
    "# cpd_crate_available = TabularCPD(variable='CrateAvailable', variable_card=2, values=[[0.5], [0.5]])\n",
    "# cpd_feeder_available = TabularCPD(variable='FeederAvailable', variable_card=2, values=[[0.5], [0.5]])\n",
    "\n",
    "# cpd_worker = TabularCPD(variable='Worker', variable_card=3, values=[[1/3], [1/3], [1/3]])\n",
    "\n",
    "\n",
    "# cpd_next_obj = TabularCPD(\n",
    "#     variable='NextObject', variable_card=4,\n",
    "#     values=[\n",
    "#         # Probabilities for NextObject being Crate (0)\n",
    "#         [0.9, 0, 0.6, 0, 0.8, 0, 0.7, 0, 0, 0, 0, 0, 0, 0, 0, 0, 0, 0, 0, 0, 0, 0, 0, 0],\n",
    "        \n",
    "#         # Probabilities for NextObject being Feeder (1)\n",
    "#         [0.1, 0, 0.3, 0, 0.1, 0, 0.2, 0, 0.8, 0, 0.6, 0, 0.9, 0, 0.7, 0, 0, 0, 0, 0, 0, 0, 0, 0],\n",
    "        \n",
    "#         # Probabilities for NextObject being Cup (2)\n",
    "#         [0, 0, 0.1, 0, 0.1, 0, 0.1, 0, 0.2, 0, 0.4, 0, 0.1, 0, 0.3, 0, 0.9, 0, 0.8, 0, 1.0, 0, 0.9, 0],\n",
    "\n",
    "#         # Probabilities for NextObject being None (3)\n",
    "#         [0, 1, 0, 1, 0, 1, 0, 1, 0, 1, 0, 1, 0, 1, 0, 1, 0.1, 1, 0.2, 1, 0, 1, 0.1, 1]\n",
    "#     ],\n",
    "#     evidence=['Worker', 'CrateAvailable', 'FeederAvailable', 'CupAvailable'],\n",
    "#     evidence_card=[3, 2, 2, 2])\n",
    "\n",
    "# model.add_cpds(cpd_cup_available, cpd_crate_available, cpd_feeder_available, cpd_next_obj, cpd_worker)\n",
    "# assert model.check_model()"
   ]
  },
  {
   "cell_type": "code",
   "execution_count": 16,
   "metadata": {},
   "outputs": [],
   "source": [
    "with open('models/recent.pkl', 'wb') as file:\n",
    "    pickle.dump(model, file)"
   ]
  },
  {
   "cell_type": "markdown",
   "metadata": {},
   "source": [
    "example query:"
   ]
  },
  {
   "cell_type": "code",
   "execution_count": 17,
   "metadata": {},
   "outputs": [
    {
     "name": "stdout",
     "output_type": "stream",
     "text": [
      "+---------------+-------------------+\n",
      "| NextObject    |   phi(NextObject) |\n",
      "+===============+===================+\n",
      "| NextObject(0) |            0.2000 |\n",
      "+---------------+-------------------+\n",
      "| NextObject(1) |            0.6000 |\n",
      "+---------------+-------------------+\n",
      "| NextObject(2) |            0.2000 |\n",
      "+---------------+-------------------+\n",
      "| NextObject(3) |            0.0000 |\n",
      "+---------------+-------------------+\n"
     ]
    }
   ],
   "source": [
    "inference = VariableElimination(model)\n",
    "result = inference.query(\n",
    "    variables=['NextObject'],\n",
    "    evidence={\n",
    "        'CrateAvailable': True,\n",
    "        'FeederAvailable': True,\n",
    "        'CupAvailable': True,\n",
    "\n",
    "        'Worker': 1\n",
    "        }\n",
    ")\n",
    "\n",
    "print(result)"
   ]
  }
 ],
 "metadata": {
  "kernelspec": {
   "display_name": "project3-1",
   "language": "python",
   "name": "python3"
  },
  "language_info": {
   "codemirror_mode": {
    "name": "ipython",
    "version": 3
   },
   "file_extension": ".py",
   "mimetype": "text/x-python",
   "name": "python",
   "nbconvert_exporter": "python",
   "pygments_lexer": "ipython3",
   "version": "3.9.18"
  }
 },
 "nbformat": 4,
 "nbformat_minor": 2
}
