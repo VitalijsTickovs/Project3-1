{
 "cells": [
  {
   "cell_type": "code",
   "execution_count": 2,
   "metadata": {},
   "outputs": [],
   "source": [
    "from pgmpy.models import DynamicBayesianNetwork as DBN\n",
    "\n",
    "dbn = DBN()\n",
    "dbn.add_edges_from([(('current_skeleton', 0), ('predicted_skeleton', 1)),\n",
    "                    (('crate_present', 0), ('current_distance_crate', 0)),\n",
    "                    (('current_skeleton', 0), ('current_distance_crate', 0)),\n",
    "                    (('current_distance_crate', 0), ('predicted_distance_crate', 1)),\n",
    "                    (('predicted_skeleton', 1), ('human_action', 1))])"
   ]
  }
 ],
 "metadata": {
  "kernelspec": {
   "display_name": "project3-1",
   "language": "python",
   "name": "python3"
  },
  "language_info": {
   "codemirror_mode": {
    "name": "ipython",
    "version": 3
   },
   "file_extension": ".py",
   "mimetype": "text/x-python",
   "name": "python",
   "nbconvert_exporter": "python",
   "pygments_lexer": "ipython3",
   "version": "3.9.18"
  }
 },
 "nbformat": 4,
 "nbformat_minor": 2
}
