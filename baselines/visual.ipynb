{
 "cells": [
  {
   "cell_type": "code",
   "execution_count": 1,
   "metadata": {},
   "outputs": [],
   "source": [
    "import pandas as pd\n"
   ]
  },
  {
   "cell_type": "code",
   "execution_count": 4,
   "metadata": {},
   "outputs": [
    {
     "name": "stdout",
     "output_type": "stream",
     "text": [
      "<class 'pandas.core.frame.DataFrame'>\n",
      "\n"
     ]
    },
    {
     "data": {
      "text/html": [
       "<div>\n",
       "<style scoped>\n",
       "    .dataframe tbody tr th:only-of-type {\n",
       "        vertical-align: middle;\n",
       "    }\n",
       "\n",
       "    .dataframe tbody tr th {\n",
       "        vertical-align: top;\n",
       "    }\n",
       "\n",
       "    .dataframe thead th {\n",
       "        text-align: right;\n",
       "    }\n",
       "</style>\n",
       "<table border=\"1\" class=\"dataframe\">\n",
       "  <thead>\n",
       "    <tr style=\"text-align: right;\">\n",
       "      <th></th>\n",
       "      <th>2023-11-22 11:38:42.160</th>\n",
       "      <th>2023-11-22 11:38:42.176</th>\n",
       "    </tr>\n",
       "  </thead>\n",
       "  <tbody>\n",
       "    <tr>\n",
       "      <th>timestamp</th>\n",
       "      <td>1700653122160161649</td>\n",
       "      <td>1700653122176913649</td>\n",
       "    </tr>\n",
       "    <tr>\n",
       "      <th>body_list</th>\n",
       "      <td>[{'position': [0.113704234361648, -0.025178760...</td>\n",
       "      <td>[{'position': [0.11352799832820801, -0.0292186...</td>\n",
       "    </tr>\n",
       "  </tbody>\n",
       "</table>\n",
       "</div>"
      ],
      "text/plain": [
       "                                     2023-11-22 11:38:42.160  \\\n",
       "timestamp                                1700653122160161649   \n",
       "body_list  [{'position': [0.113704234361648, -0.025178760...   \n",
       "\n",
       "                                     2023-11-22 11:38:42.176  \n",
       "timestamp                                1700653122176913649  \n",
       "body_list  [{'position': [0.11352799832820801, -0.0292186...  "
      ]
     },
     "metadata": {},
     "output_type": "display_data"
    }
   ],
   "source": [
    "### METHODS:\n",
    "\n",
    "### MAIN:\n",
    "\n",
    "contents = pd.read_json(\"../Data/SkeletonData/skCrateLeft1.json\")\n",
    "print(type(contents))\n",
    "print()\n",
    "display(contents)"
   ]
  }
 ],
 "metadata": {
  "kernelspec": {
   "display_name": "base",
   "language": "python",
   "name": "python3"
  },
  "language_info": {
   "codemirror_mode": {
    "name": "ipython",
    "version": 3
   },
   "file_extension": ".py",
   "mimetype": "text/x-python",
   "name": "python",
   "nbconvert_exporter": "python",
   "pygments_lexer": "ipython3",
   "version": "3.9.12"
  }
 },
 "nbformat": 4,
 "nbformat_minor": 2
}
