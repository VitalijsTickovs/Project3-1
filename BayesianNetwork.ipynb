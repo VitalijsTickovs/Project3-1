{
 "cells": [
  {
   "cell_type": "code",
   "execution_count": 1,
   "metadata": {},
   "outputs": [
    {
     "name": "stderr",
     "output_type": "stream",
     "text": [
      "c:\\Users\\thiel\\.conda\\envs\\project3-1\\lib\\site-packages\\tqdm\\auto.py:21: TqdmWarning: IProgress not found. Please update jupyter and ipywidgets. See https://ipywidgets.readthedocs.io/en/stable/user_install.html\n",
      "  from .autonotebook import tqdm as notebook_tqdm\n"
     ]
    }
   ],
   "source": [
    "import pandas as pd\n",
    "from pgmpy.models import BayesianNetwork\n",
    "from pgmpy.estimators import MaximumLikelihoodEstimator\n",
    "from pgmpy.inference import VariableElimination"
   ]
  },
  {
   "cell_type": "code",
   "execution_count": 2,
   "metadata": {},
   "outputs": [],
   "source": [
    "# Sample data with columns: Weather, Mood, Run\n",
    "data = pd.DataFrame({\n",
    "    'Weather': [1, 0, 1, 0, 1, 0, 1, 0],\n",
    "    'Mood': [1, 0, 1, 0, 1, 0, 1, 0],\n",
    "    'Run': [1, 0, 1, 0, 0, 0, 1, 1]\n",
    "})"
   ]
  },
  {
   "cell_type": "code",
   "execution_count": 3,
   "metadata": {},
   "outputs": [
    {
     "name": "stdout",
     "output_type": "stream",
     "text": [
      "CPD for Weather:\n",
      "+------------+-----+\n",
      "| Weather(0) | 0.5 |\n",
      "+------------+-----+\n",
      "| Weather(1) | 0.5 |\n",
      "+------------+-----+\n",
      "\n",
      "CPD for Run:\n",
      "+---------+------------+------------+------------+------------+\n",
      "| Mood    | Mood(0)    | Mood(0)    | Mood(1)    | Mood(1)    |\n",
      "+---------+------------+------------+------------+------------+\n",
      "| Weather | Weather(0) | Weather(1) | Weather(0) | Weather(1) |\n",
      "+---------+------------+------------+------------+------------+\n",
      "| Run(0)  | 0.75       | 0.5        | 0.5        | 0.25       |\n",
      "+---------+------------+------------+------------+------------+\n",
      "| Run(1)  | 0.25       | 0.5        | 0.5        | 0.75       |\n",
      "+---------+------------+------------+------------+------------+\n",
      "\n",
      "CPD for Mood:\n",
      "+---------+-----+\n",
      "| Mood(0) | 0.5 |\n",
      "+---------+-----+\n",
      "| Mood(1) | 0.5 |\n",
      "+---------+-----+\n",
      "\n"
     ]
    }
   ],
   "source": [
    "# Create a Bayesian Network model\n",
    "model = BayesianNetwork([('Weather', 'Run'), ('Mood', 'Run')])\n",
    "\n",
    "# Fit the model to the data using Maximum Likelihood Estimators\n",
    "model.fit(data, estimator=MaximumLikelihoodEstimator)\n",
    "\n",
    "# Iterate through the nodes and print the CPDs\n",
    "for node in model.nodes():\n",
    "    cpd = model.get_cpds(node)\n",
    "    print(f\"CPD for {node}:\")\n",
    "    print(cpd)\n",
    "    print()"
   ]
  },
  {
   "cell_type": "code",
   "execution_count": 4,
   "metadata": {},
   "outputs": [
    {
     "name": "stdout",
     "output_type": "stream",
     "text": [
      "evidence: {'Weather': 1, 'Mood': 1}\n",
      "+--------+------------+\n",
      "| Run    |   phi(Run) |\n",
      "+========+============+\n",
      "| Run(0) |     0.2500 |\n",
      "+--------+------------+\n",
      "| Run(1) |     0.7500 |\n",
      "+--------+------------+\n"
     ]
    }
   ],
   "source": [
    "# Define the evidence for which you want to make predictions\n",
    "evidence = {'Weather': 1, 'Mood': 1}\n",
    "\n",
    "# Create an inference object\n",
    "inference = VariableElimination(model)\n",
    "\n",
    "# Calculate the probability of 'Run' given the evidence\n",
    "predicted_run_probability = inference.query(variables=['Run'], evidence=evidence)\n",
    "\n",
    "print(f'evidence: {evidence}')\n",
    "print(predicted_run_probability)\n"
   ]
  }
 ],
 "metadata": {
  "kernelspec": {
   "display_name": "project3-1",
   "language": "python",
   "name": "python3"
  },
  "language_info": {
   "codemirror_mode": {
    "name": "ipython",
    "version": 3
   },
   "file_extension": ".py",
   "mimetype": "text/x-python",
   "name": "python",
   "nbconvert_exporter": "python",
   "pygments_lexer": "ipython3",
   "version": "3.9.18"
  }
 },
 "nbformat": 4,
 "nbformat_minor": 2
}
